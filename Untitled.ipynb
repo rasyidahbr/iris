{
 "cells": [
  {
   "cell_type": "code",
   "execution_count": 3,
   "id": "c78dc09e-548b-42b9-b251-36333b0a8fd4",
   "metadata": {
    "tags": []
   },
   "outputs": [
    {
     "name": "stderr",
     "output_type": "stream",
     "text": [
      "2023-10-14 16:04:53.168 \n",
      "  \u001b[33m\u001b[1mWarning:\u001b[0m to view this Streamlit app on a browser, run it with the following\n",
      "  command:\n",
      "\n",
      "    streamlit run C:\\Users\\myste\\anaconda3\\Lib\\site-packages\\ipykernel_launcher.py [ARGUMENTS]\n"
     ]
    }
   ],
   "source": [
    "import streamlit as st\n",
    "import pandas as pd\n",
    "from sklearn.model_selection import train_test_split\n",
    "from sklearn.ensemble import RandomForestClassifier\n",
    "\n",
    "# Load the data\n",
    "df = pd.read_csv('./data/iris.csv')\n",
    "\n",
    "# Split the data into training and testing sets\n",
    "X = df[['Sepal_Length', 'Sepal_Width', 'Petal_Length', 'Petal_Width']]\n",
    "y = df['Species']\n",
    "X_train, X_test, y_train, y_test = train_test_split(X, y, test_size=0.25, random_state=42)\n",
    "\n",
    "# Train a random forest classifier\n",
    "clf = RandomForestClassifier()\n",
    "clf.fit(X_train, y_train)\n",
    "\n",
    "# Make predictions on the test set\n",
    "y_pred = clf.predict(X_test)\n",
    "\n",
    "# Calculate the accuracy\n",
    "accuracy = clf.score(X_test, y_test)\n",
    "\n",
    "# Create a Streamlit app\n",
    "st.title('Iris Species Prediction')\n",
    "\n",
    "# Display the accuracy\n",
    "st.write('Accuracy:', accuracy)\n",
    "\n",
    "# Allow the user to input their own data\n",
    "sepal_length = st.number_input('Sepal length (cm)')\n",
    "sepal_width = st.number_input('Sepal width (cm)')\n",
    "petal_length = st.number_input('Petal length (cm)')\n",
    "petal_width = st.number_input('Petal width (cm)')\n",
    "\n",
    "# Make a prediction\n",
    "if st.button('Predict'):\n",
    "    X_new = pd.DataFrame([[sepal_length, sepal_width, petal_length, petal_width]])\n",
    "    y_pred = clf.predict(X_new)\n",
    "\n",
    "    # Display the prediction\n",
    "    st.write('Predicted species:', y_pred[0])"
   ]
  },
  {
   "cell_type": "code",
   "execution_count": null,
   "id": "2ff59ffd-446a-4f45-9863-bc6ade0372d9",
   "metadata": {},
   "outputs": [],
   "source": []
  }
 ],
 "metadata": {
  "kernelspec": {
   "display_name": "Python 3 (ipykernel)",
   "language": "python",
   "name": "python3"
  },
  "language_info": {
   "codemirror_mode": {
    "name": "ipython",
    "version": 3
   },
   "file_extension": ".py",
   "mimetype": "text/x-python",
   "name": "python",
   "nbconvert_exporter": "python",
   "pygments_lexer": "ipython3",
   "version": "3.11.4"
  }
 },
 "nbformat": 4,
 "nbformat_minor": 5
}
